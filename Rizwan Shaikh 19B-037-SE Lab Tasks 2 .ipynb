{
 "cells": [
  {
   "cell_type": "code",
   "execution_count": 1,
   "metadata": {},
   "outputs": [
    {
     "name": "stdout",
     "output_type": "stream",
     "text": [
      "[10, 22, 44, 4]\n",
      "[10, 22, 44, 4]\n"
     ]
    }
   ],
   "source": [
    "original_list1 = [10,22,44,4]\n",
    "new_list2 = list(original_list1)\n",
    "print(original_list1)\n",
    "print(new_list2)"
   ]
  },
  {
   "cell_type": "code",
   "execution_count": 2,
   "metadata": {},
   "outputs": [
    {
     "name": "stdout",
     "output_type": "stream",
     "text": [
      "()\n",
      "()\n"
     ]
    }
   ],
   "source": [
    "#create an empty tuple\n",
    "x = ()\n",
    "print(x)\n",
    "#create an empty tuple with tuple() function built-in python\n",
    "tuple1 = tuple()\n",
    "print(tuple1)"
   ]
  },
  {
   "cell_type": "code",
   "execution_count": 3,
   "metadata": {},
   "outputs": [
    {
     "name": "stdout",
     "output_type": "stream",
     "text": [
      "('tuple', False, 3, 2, 1)\n"
     ]
    }
   ],
   "source": [
    "#create a tuple with different data types\n",
    "tuple2 = (\"tuple\",False,3,2,1)\n",
    "print(tuple2)"
   ]
  },
  {
   "cell_type": "code",
   "execution_count": 4,
   "metadata": {},
   "outputs": [
    {
     "name": "stdout",
     "output_type": "stream",
     "text": [
      "('U', 'I', 'T', '2', '0', '1', '8', 'b', 'a', 't', 'c', 'h')\n",
      "2\n",
      "a\n"
     ]
    }
   ],
   "source": [
    "#Get an item of the tuple\n",
    "tuplex = (\"U\",\"I\",\"T\",\"2\",\"0\",\"1\",\"8\",\"b\",\"a\",\"t\",\"c\",\"h\")\n",
    "print(tuplex)\n",
    "#Get item (4th element)of the tuple by index\n",
    "item = tuplex[3]\n",
    "print(item)\n",
    "#Get item(4th element from last)by index negative\n",
    "item1 = tuplex[-4]\n",
    "print(item1)"
   ]
  },
  {
   "cell_type": "code",
   "execution_count": 5,
   "metadata": {},
   "outputs": [
    {
     "name": "stdout",
     "output_type": "stream",
     "text": [
      "[2, 3, 4, 5, 6]\n",
      "Extend add the value to list in last\n",
      "[2, 3, 4, 5, 6]\n",
      "Copy will copy the value of another list\n",
      "[]\n",
      "Clear will clear the list\n"
     ]
    }
   ],
   "source": [
    "lst = [2,3,4]\n",
    "lst.extend([5,6])\n",
    "print(lst)\n",
    "print(\"Extend add the value to list in last\")\n",
    "lst2 = lst.copy()\n",
    "print(lst2)\n",
    "print(\"Copy will copy the value of another list\")\n",
    "lst.clear()\n",
    "print(lst)\n",
    "print(\"Clear will clear the list\")"
   ]
  }
 ],
 "metadata": {
  "kernelspec": {
   "display_name": "Python 3",
   "language": "python",
   "name": "python3"
  },
  "language_info": {
   "codemirror_mode": {
    "name": "ipython",
    "version": 3
   },
   "file_extension": ".py",
   "mimetype": "text/x-python",
   "name": "python",
   "nbconvert_exporter": "python",
   "pygments_lexer": "ipython3",
   "version": "3.7.3"
  }
 },
 "nbformat": 4,
 "nbformat_minor": 2
}
